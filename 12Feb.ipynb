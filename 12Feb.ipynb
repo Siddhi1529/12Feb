{
  "nbformat": 4,
  "nbformat_minor": 0,
  "metadata": {
    "colab": {
      "provenance": []
    },
    "kernelspec": {
      "name": "python3",
      "display_name": "Python 3"
    },
    "language_info": {
      "name": "python"
    }
  },
  "cells": [
    {
      "cell_type": "markdown",
      "source": [
        "Q1. What is an Exception in python? Write the difference between Exceptions and Syntax errors.\n"
      ],
      "metadata": {
        "id": "AQUdFOoO1NzH"
      }
    },
    {
      "cell_type": "markdown",
      "source": [
        "An **exception** in Python is an error that occurs during program execution, such as dividing by zero or accessing a non-existent file. It can be handled using `try` and `except` blocks. A **syntax error**, on the other hand, occurs when the Python code is not written correctly (e.g., missing parentheses or incorrect indentation), preventing the program from running. Exceptions are runtime errors, while syntax errors are detected before execution."
      ],
      "metadata": {
        "id": "G3pV1XqS1e7R"
      }
    },
    {
      "cell_type": "code",
      "source": [],
      "metadata": {
        "id": "411WjCS61OxW"
      },
      "execution_count": null,
      "outputs": []
    },
    {
      "cell_type": "markdown",
      "source": [
        "Q2. What happens when an exception is not handled? Explain with an example.\n"
      ],
      "metadata": {
        "id": "_xj0rB8H1O5z"
      }
    },
    {
      "cell_type": "markdown",
      "source": [
        "When an exception is not handled, the program will terminate abruptly, and an error message (traceback) will be displayed. The traceback shows where the error occurred, which helps in debugging."
      ],
      "metadata": {
        "id": "fQWC1hbi1jSo"
      }
    },
    {
      "cell_type": "code",
      "source": [
        "# Example of an unhandled exception\n",
        "x = 10\n",
        "y = 0\n",
        "result = x / y  # This will raise a ZeroDivisionError\n",
        "print(\"This line will not execute\")\n"
      ],
      "metadata": {
        "colab": {
          "base_uri": "https://localhost:8080/",
          "height": 198
        },
        "id": "Fk8vyS7X1QJY",
        "outputId": "cc5cb213-da89-4643-b1c6-7958228d3855"
      },
      "execution_count": 1,
      "outputs": [
        {
          "output_type": "error",
          "ename": "ZeroDivisionError",
          "evalue": "division by zero",
          "traceback": [
            "\u001b[0;31m---------------------------------------------------------------------------\u001b[0m",
            "\u001b[0;31mZeroDivisionError\u001b[0m                         Traceback (most recent call last)",
            "\u001b[0;32m<ipython-input-1-32535f92ce0d>\u001b[0m in \u001b[0;36m<cell line: 4>\u001b[0;34m()\u001b[0m\n\u001b[1;32m      2\u001b[0m \u001b[0mx\u001b[0m \u001b[0;34m=\u001b[0m \u001b[0;36m10\u001b[0m\u001b[0;34m\u001b[0m\u001b[0;34m\u001b[0m\u001b[0m\n\u001b[1;32m      3\u001b[0m \u001b[0my\u001b[0m \u001b[0;34m=\u001b[0m \u001b[0;36m0\u001b[0m\u001b[0;34m\u001b[0m\u001b[0;34m\u001b[0m\u001b[0m\n\u001b[0;32m----> 4\u001b[0;31m \u001b[0mresult\u001b[0m \u001b[0;34m=\u001b[0m \u001b[0mx\u001b[0m \u001b[0;34m/\u001b[0m \u001b[0my\u001b[0m  \u001b[0;31m# This will raise a ZeroDivisionError\u001b[0m\u001b[0;34m\u001b[0m\u001b[0;34m\u001b[0m\u001b[0m\n\u001b[0m\u001b[1;32m      5\u001b[0m \u001b[0mprint\u001b[0m\u001b[0;34m(\u001b[0m\u001b[0;34m\"This line will not execute\"\u001b[0m\u001b[0;34m)\u001b[0m\u001b[0;34m\u001b[0m\u001b[0;34m\u001b[0m\u001b[0m\n",
            "\u001b[0;31mZeroDivisionError\u001b[0m: division by zero"
          ]
        }
      ]
    },
    {
      "cell_type": "markdown",
      "source": [
        "Q3. Which Python statements are used to catch and handle exceptions? Explain with an example.\n"
      ],
      "metadata": {
        "id": "Qhv2YBSC1QQj"
      }
    },
    {
      "cell_type": "markdown",
      "source": [
        "\n",
        "In Python, the try, except, else, and finally statements are used to catch and handle exceptions.\n",
        "\n",
        "try: The block of code where exceptions may occur.\n",
        "\n",
        "except: Defines how to handle the exception if it occurs.\n",
        "\n",
        "else: Executes if no exception is raised in the try block.\n",
        "\n",
        "finally: Executes no matter what, whether an exception occurred or not (often used for cleanup)."
      ],
      "metadata": {
        "id": "qVoIlTCJ1vY_"
      }
    },
    {
      "cell_type": "code",
      "source": [
        "try:\n",
        "    x = 10\n",
        "    y = 0\n",
        "    result = x / y  # This will raise ZeroDivisionError\n",
        "except ZeroDivisionError:\n",
        "    print(\"Cannot divide by zero!\")\n",
        "else:\n",
        "    print(\"Division successful\")\n",
        "finally:\n",
        "    print(\"Execution complete\")\n"
      ],
      "metadata": {
        "colab": {
          "base_uri": "https://localhost:8080/"
        },
        "id": "0SdttLRP1RSp",
        "outputId": "d6f5e388-9a46-4c81-9d80-6c14a8ad2f2e"
      },
      "execution_count": 2,
      "outputs": [
        {
          "output_type": "stream",
          "name": "stdout",
          "text": [
            "Cannot divide by zero!\n",
            "Execution complete\n"
          ]
        }
      ]
    },
    {
      "cell_type": "code",
      "source": [],
      "metadata": {
        "id": "XeMaNTq81zOO"
      },
      "execution_count": null,
      "outputs": []
    },
    {
      "cell_type": "markdown",
      "source": [
        "Q4. Explain with an example:#\n",
        " try and else#\n",
        " finally\n",
        " raise\n"
      ],
      "metadata": {
        "id": "j6TXdQaD1Ra9"
      }
    },
    {
      "cell_type": "code",
      "source": [
        "#The try block contains code that may raise an exception. The else block runs only if no exception occurs in the try block.\n",
        "\n",
        "\n",
        "try:\n",
        "    num = int(input(\"Enter a number: \"))  # Try to get a valid number\n",
        "    result = 10 / num  # Perform division\n",
        "except ZeroDivisionError:\n",
        "    print(\"Cannot divide by zero!\")\n",
        "except ValueError:\n",
        "    print(\"Invalid input, please enter a valid number!\")\n",
        "else:\n",
        "    print(f\"The result is: {result}\")\n"
      ],
      "metadata": {
        "colab": {
          "base_uri": "https://localhost:8080/"
        },
        "id": "k5iF7Uny1SzQ",
        "outputId": "07b3281f-3158-4a2c-f5b3-7e9ebf694486"
      },
      "execution_count": 3,
      "outputs": [
        {
          "output_type": "stream",
          "name": "stdout",
          "text": [
            "Enter a number: 3\n",
            "The result is: 3.3333333333333335\n"
          ]
        }
      ]
    },
    {
      "cell_type": "code",
      "source": [
        "# The finally block is always executed, regardless of whether an exception occurs or not. It is often used for cleanup actions like closing files or releasing resources.\n",
        "\n",
        "\n",
        "try:\n",
        "    file = open(\"example.txt\", \"r\")  # Open a file\n",
        "    content = file.read()  # Read the content\n",
        "except FileNotFoundError:\n",
        "    print(\"File not found!\")\n",
        "finally:\n",
        "    file.close()  # Close the file whether an exception occurred or not\n",
        "    print(\"File closed.\")\n"
      ],
      "metadata": {
        "colab": {
          "base_uri": "https://localhost:8080/",
          "height": 216
        },
        "collapsed": true,
        "id": "T4JDasI12CSz",
        "outputId": "40f02427-f0be-42d2-e48f-0e7b8916eed4"
      },
      "execution_count": 4,
      "outputs": [
        {
          "output_type": "stream",
          "name": "stdout",
          "text": [
            "File not found!\n"
          ]
        },
        {
          "output_type": "error",
          "ename": "NameError",
          "evalue": "name 'file' is not defined",
          "traceback": [
            "\u001b[0;31m---------------------------------------------------------------------------\u001b[0m",
            "\u001b[0;31mNameError\u001b[0m                                 Traceback (most recent call last)",
            "\u001b[0;32m<ipython-input-4-5612580b696b>\u001b[0m in \u001b[0;36m<cell line: 4>\u001b[0;34m()\u001b[0m\n\u001b[1;32m      8\u001b[0m     \u001b[0mprint\u001b[0m\u001b[0;34m(\u001b[0m\u001b[0;34m\"File not found!\"\u001b[0m\u001b[0;34m)\u001b[0m\u001b[0;34m\u001b[0m\u001b[0;34m\u001b[0m\u001b[0m\n\u001b[1;32m      9\u001b[0m \u001b[0;32mfinally\u001b[0m\u001b[0;34m:\u001b[0m\u001b[0;34m\u001b[0m\u001b[0;34m\u001b[0m\u001b[0m\n\u001b[0;32m---> 10\u001b[0;31m     \u001b[0mfile\u001b[0m\u001b[0;34m.\u001b[0m\u001b[0mclose\u001b[0m\u001b[0;34m(\u001b[0m\u001b[0;34m)\u001b[0m  \u001b[0;31m# Close the file whether an exception occurred or not\u001b[0m\u001b[0;34m\u001b[0m\u001b[0;34m\u001b[0m\u001b[0m\n\u001b[0m\u001b[1;32m     11\u001b[0m     \u001b[0mprint\u001b[0m\u001b[0;34m(\u001b[0m\u001b[0;34m\"File closed.\"\u001b[0m\u001b[0;34m)\u001b[0m\u001b[0;34m\u001b[0m\u001b[0;34m\u001b[0m\u001b[0m\n",
            "\u001b[0;31mNameError\u001b[0m: name 'file' is not defined"
          ]
        }
      ]
    },
    {
      "cell_type": "code",
      "source": [
        "# The raise statement is used to explicitly raise an exception, either a built-in exception or a custom one. It can be used to trigger an exception manually.\n",
        "\n",
        "def check_age(age):\n",
        "    if age < 18:\n",
        "        raise ValueError(\"Age must be at least 18\")  # Raise an exception\n",
        "    else:\n",
        "        print(\"Access granted\")\n",
        "\n",
        "try:\n",
        "    check_age(16)  # This will raise an exception\n",
        "except ValueError as e:\n",
        "    print(f\"Error: {e}\")\n"
      ],
      "metadata": {
        "colab": {
          "base_uri": "https://localhost:8080/"
        },
        "id": "4t9jpGzD2CV0",
        "outputId": "4a02406b-9f9e-4567-80de-2d6e4762e6b6"
      },
      "execution_count": 5,
      "outputs": [
        {
          "output_type": "stream",
          "name": "stdout",
          "text": [
            "Error: Age must be at least 18\n"
          ]
        }
      ]
    },
    {
      "cell_type": "code",
      "source": [],
      "metadata": {
        "id": "OiLvBhOY2CYz"
      },
      "execution_count": null,
      "outputs": []
    },
    {
      "cell_type": "markdown",
      "source": [
        "Q5. What are Custom Exceptions in python? Why do we need Custom Exceptions? Explain with an example.\n"
      ],
      "metadata": {
        "id": "XQ4_695i1S60"
      }
    },
    {
      "cell_type": "markdown",
      "source": [
        "Custom exceptions in Python are user-defined error classes that extend the built-in `Exception` class. They allow for more specific error handling, making the code more readable and manageable. Custom exceptions are useful when you need to handle unique errors related to your application's logic. You define them by subclassing `Exception` and raising them where needed."
      ],
      "metadata": {
        "id": "nYPmEB7B2XmB"
      }
    },
    {
      "cell_type": "code",
      "source": [
        "# Define a custom exception\n",
        "class NegativeValueError(Exception):\n",
        "    def __init__(self, message=\"Value cannot be negative\"):\n",
        "        self.message = message\n",
        "        super().__init__(self.message)\n",
        "\n",
        "# Function that raises the custom exception\n",
        "def check_value(value):\n",
        "    if value < 0:\n",
        "        raise NegativeValueError(f\"Invalid input: {value} is negative.\")\n",
        "    return value\n",
        "\n",
        "try:\n",
        "    value = int(input(\"Enter a number: \"))\n",
        "    check_value(value)\n",
        "    print(\"Valid input:\", value)\n",
        "except NegativeValueError as e:\n",
        "    print(f\"Error: {e}\")\n"
      ],
      "metadata": {
        "colab": {
          "base_uri": "https://localhost:8080/"
        },
        "id": "g3QKBU5T1UE4",
        "outputId": "33a4c038-f02d-4ee8-b83a-c697855ae146"
      },
      "execution_count": 6,
      "outputs": [
        {
          "output_type": "stream",
          "name": "stdout",
          "text": [
            "Enter a number: 3\n",
            "Valid input: 3\n"
          ]
        }
      ]
    },
    {
      "cell_type": "markdown",
      "source": [
        "Q6. Create a custom exception class. Use this class to handle an exception."
      ],
      "metadata": {
        "id": "DDkbECcc1ULv"
      }
    },
    {
      "cell_type": "code",
      "source": [
        "# Define the custom exception class\n",
        "class InvalidAgeError(Exception):\n",
        "    def __init__(self, message=\"Age cannot be negative or zero\"):\n",
        "        self.message = message\n",
        "        super().__init__(self.message)\n",
        "\n",
        "# Function to check age\n",
        "def check_age(age):\n",
        "    if age <= 0:\n",
        "        raise InvalidAgeError(f\"Invalid age: {age}\")\n",
        "    return age\n",
        "\n",
        "# Handle the custom exception\n",
        "try:\n",
        "    age = int(input(\"Enter your age: \"))\n",
        "    check_age(age)\n",
        "    print(f\"Your age is: {age}\")\n",
        "except InvalidAgeError as e:\n",
        "    print(f\"Error: {e}\")\n"
      ],
      "metadata": {
        "colab": {
          "base_uri": "https://localhost:8080/"
        },
        "id": "9gEsRnSx1UeH",
        "outputId": "15d78b8a-672d-4155-a1f9-2502aa286d3e"
      },
      "execution_count": 7,
      "outputs": [
        {
          "output_type": "stream",
          "name": "stdout",
          "text": [
            "Enter your age: 26\n",
            "Your age is: 26\n"
          ]
        }
      ]
    }
  ]
}